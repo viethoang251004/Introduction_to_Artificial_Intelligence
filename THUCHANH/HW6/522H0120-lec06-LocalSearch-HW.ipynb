{
  "cells": [
    {
      "cell_type": "markdown",
      "metadata": {
        "id": "mm5b-FZhfA5H"
      },
      "source": [
        "Students implement Hill-Climbing Search, Local Beam Search, and Simulated Annealing Search algorithms following TODO 1 - 3. \\\n",
        "Students can add supporting attributes and methods to the three classes as needed."
      ]
    },
    {
      "cell_type": "code",
      "execution_count": 19,
      "metadata": {
        "colab": {
          "base_uri": "https://localhost:8080/"
        },
        "id": "MH0WH_yMtjbs",
        "outputId": "aa75fd04-af73-408f-c108-09426e56bda6"
      },
      "outputs": [
        {
          "name": "stdout",
          "output_type": "stream",
          "text": [
            "Drive already mounted at /content/drive; to attempt to forcibly remount, call drive.mount(\"/content/drive\", force_remount=True).\n"
          ]
        }
      ],
      "source": [
        "from google.colab import drive\n",
        "drive.mount('/content/drive')"
      ]
    },
    {
      "cell_type": "markdown",
      "metadata": {
        "id": "9In-lpCRc7rc"
      },
      "source": [
        "# Libraries"
      ]
    },
    {
      "cell_type": "code",
      "execution_count": 1,
      "metadata": {
        "id": "baZnzmhNW8KU"
      },
      "outputs": [],
      "source": [
        "import os\n",
        "import heapq\n",
        "import random\n",
        "import math"
      ]
    },
    {
      "cell_type": "markdown",
      "metadata": {
        "id": "Hm_qjIb4dB8a"
      },
      "source": [
        "# Graph class"
      ]
    },
    {
      "cell_type": "code",
      "execution_count": 40,
      "metadata": {
        "id": "IBUbARThU6VK"
      },
      "outputs": [],
      "source": [
        "# Directed, weighted graphs\n",
        "class Graph:\n",
        "  def __init__(self):\n",
        "    self.AL = dict() # adjacency list\n",
        "    self.V = 0\n",
        "    self.E = 0\n",
        "    self.H = dict()\n",
        "\n",
        "  def __str__(self):\n",
        "    res = 'V: %d, E: %d\\n'%(self.V, self.E)\n",
        "    for u, neighbors in self.AL.items():\n",
        "      line = '%d: %s\\n'%(u, str(neighbors))\n",
        "      res += line\n",
        "    for u, h in self.H.items():\n",
        "      line = 'h(%d) = %d\\n'%(u, h)\n",
        "    return res\n",
        "\n",
        "  def print(self):\n",
        "    print(str(self))\n",
        "\n",
        "  def load_from_file(self, filename):\n",
        "    # '''\n",
        "    #     Example input file:\n",
        "    #         V E\n",
        "    #         u v w\n",
        "    #         u v w\n",
        "    #         u v w\n",
        "    #         ...\n",
        "    #         u1 h1\n",
        "    #         u2 h2\n",
        "    #         u3 h3\n",
        "    #         ...\n",
        "\n",
        "    #     # input.txt\n",
        "    #     7 8\n",
        "    #     0 1 5\n",
        "    #     0 2 6\n",
        "    #     1 3 12\n",
        "    #     1 4 9\n",
        "    #     2 5 5\n",
        "    #     3 5 8\n",
        "    #     3 6 7\n",
        "    #     4 6 4\n",
        "    #     0 14\n",
        "    #     1 13\n",
        "    #     2 12\n",
        "    #     3 11\n",
        "    #     4 10\n",
        "    #     5 9\n",
        "    #     6 0\n",
        "    # '''\n",
        "    if os.path.exists(filename):\n",
        "      with open(filename) as g:\n",
        "        self.V, self.E = [int(it) for it in g.readline().split()]\n",
        "        for i in range(self.E):\n",
        "          line = g.readline()\n",
        "          u, v, w = [int(it) for it in line.strip().split()]\n",
        "          if u not in self.AL:\n",
        "            self.AL[u] = []\n",
        "          self.AL[u].append((v, w))\n",
        "        for i in range(self.V):\n",
        "          line = g.readline()\n",
        "          u, h = [int(it) for it in line.strip().split()]\n",
        "          self.H[u] = h"
      ]
    },
    {
      "cell_type": "code",
      "execution_count": 41,
      "metadata": {
        "colab": {
          "base_uri": "https://localhost:8080/"
        },
        "id": "k_3EmSFKXtwk",
        "outputId": "90164aa5-a7f3-4eed-8e70-dbc71ea5572b"
      },
      "outputs": [
        {
          "name": "stdout",
          "output_type": "stream",
          "text": [
            "V: 7, E: 8\n",
            "0: [(1, 5), (2, 6)]\n",
            "1: [(3, 12), (4, 9)]\n",
            "2: [(5, 5)]\n",
            "3: [(5, 8), (6, 7)]\n",
            "4: [(6, 4)]\n",
            "\n"
          ]
        }
      ],
      "source": [
        "g = Graph()\n",
        "g.load_from_file('/content/drive/MyDrive/Colab_Notebooks/input.txt') #Path to input.txt\n",
        "g.print()"
      ]
    },
    {
      "cell_type": "markdown",
      "metadata": {
        "id": "95fgste5dFp0"
      },
      "source": [
        "# Search Strategies"
      ]
    },
    {
      "cell_type": "code",
      "execution_count": 42,
      "metadata": {
        "id": "DjEuaXToYqk6"
      },
      "outputs": [],
      "source": [
        "class LocalSearchStrategy:\n",
        "  def search(self, g: Graph, src: int) -> tuple:\n",
        "        visited = set()\n",
        "        queue = [(src, 0)]\n",
        "        best_state = None\n",
        "        best_priority = float('-inf')\n",
        "        while queue:\n",
        "            u, p = queue.pop(0)\n",
        "            if u in visited:\n",
        "                continue\n",
        "            visited.add(u)\n",
        "            # Update the best state if necessary\n",
        "            if p > best_priority:\n",
        "                best_state = u\n",
        "                best_priority = p\n",
        "            # Explore the neighbors of u\n",
        "            if u in g.AL:\n",
        "                for v, w in g.AL[u]:\n",
        "                    if v not in visited:\n",
        "                        queue.append((v, p + w + g.H[v]))\n",
        "        return (best_state, best_priority)\n",
        "    # '''\n",
        "    # return a tuple (u, p) in which\n",
        "    #   u: the local maximum state\n",
        "    #   p: the priority/weight/desirability/cost of u\n",
        "    # '''\n",
        "    # return (None, None)"
      ]
    },
    {
      "cell_type": "code",
      "execution_count": 43,
      "metadata": {
        "id": "Iax-_lNJZcQc"
      },
      "outputs": [],
      "source": [
        "class HillClimbingSearch(LocalSearchStrategy):\n",
        "  def search(self, g: Graph, src: int) -> tuple:\n",
        "    visited = set()\n",
        "    stack = [(src, 0)]\n",
        "    best_state = None\n",
        "    best_priority = float('-inf')\n",
        "    while stack:\n",
        "        u, p = stack.pop()\n",
        "        if u in visited:\n",
        "            continue\n",
        "        visited.add(u)\n",
        "        # Update the best state if necessary\n",
        "        if p > best_priority:\n",
        "            best_state = u\n",
        "            best_priority = p\n",
        "        # Explore the neighbors of u\n",
        "        if u in g.AL:\n",
        "            for v, w in g.AL[u]:\n",
        "                if v not in visited:\n",
        "                    stack.append((v, p + w + g.H[v]))\n",
        "    return (best_state, best_priority)\n",
        "    # '''\n",
        "    # return a tuple (u, p) in which\n",
        "    #   u: the local maximum state\n",
        "    #   p: the priority/weight/desirability/cost of u\n",
        "\n",
        "    # Note: weight of a node u = path_cost to u + heuristic value of u (similar to A*)\n",
        "    # '''\n",
        "    # return (None, None)"
      ]
    },
    {
      "cell_type": "code",
      "execution_count": 44,
      "metadata": {
        "id": "b3aVMO8YxGC9"
      },
      "outputs": [],
      "source": [
        "class LocalBeamSearch(LocalSearchStrategy):\n",
        "  def __init__(self, n: int):\n",
        "    self.n = n  # Beam width\n",
        "  def search(self, g: Graph, src: int) -> tuple:\n",
        "    visited = set()\n",
        "    beams = [[(src, 0)] for _ in range(self.n)]\n",
        "    best_state = None\n",
        "    best_priority = float('-inf')\n",
        "    while beams:\n",
        "        next_beams = []\n",
        "        for beam in beams:\n",
        "            new_beam = []\n",
        "            for u, p in beam:\n",
        "                if u in visited:\n",
        "                    continue\n",
        "                visited.add(u)\n",
        "                # Update the best state if necessary\n",
        "                if p > best_priority:\n",
        "                    best_state = u\n",
        "                    best_priority = p\n",
        "                # Explore the neighbors of u\n",
        "                if u in g.AL:\n",
        "                    for v, w in g.AL[u]:\n",
        "                        if v not in visited:\n",
        "                            new_beam.append((v, p + w + g.H[v]))\n",
        "            # Sort the new beam by priority and keep the top n states\n",
        "            new_beam.sort(key=lambda x: x[1], reverse=True)\n",
        "            next_beams.append(new_beam[:self.n])\n",
        "        beams = next_beams\n",
        "    return (best_state, best_priority)\n",
        "    # '''\n",
        "    # return a tuple (u, p) in which\n",
        "    #   u: the local maximum state\n",
        "    #   p: the priority/weight/desirability/cost of u\n",
        "\n",
        "    # Note:\n",
        "    # - weight of a node u = path_cost to u + heuristic value of u (similar to A*)\n",
        "    # - parameter n is provided in the constructor\n",
        "    # '''\n",
        "    # return (None, None)"
      ]
    },
    {
      "cell_type": "code",
      "execution_count": 45,
      "metadata": {
        "id": "OMwlpNHcxGYl"
      },
      "outputs": [],
      "source": [
        "class SimulatedAnnealingSearch(LocalSearchStrategy):\n",
        "    def search(self, g: Graph, src: int) -> tuple:\n",
        "        current_state = src\n",
        "        current_priority = float('-inf')\n",
        "        best_state = None\n",
        "        best_priority = float('-inf')\n",
        "        temperature = 1.0\n",
        "        cooling_rate = 0.01\n",
        "        while temperature > 0.1:\n",
        "            for _ in range(100):\n",
        "                neighbors = g.AL.get(current_state, [])\n",
        "                if neighbors:\n",
        "                    next_state = random.choice(neighbors)[0]\n",
        "                    next_priority = g.H[next_state]\n",
        "                    delta_priority = next_priority - current_priority\n",
        "                    if delta_priority > 0 or math.exp(delta_priority / temperature) > random.random():\n",
        "                        current_state = next_state\n",
        "                        current_priority = next_priority\n",
        "                if current_priority > best_priority:\n",
        "                    best_state = current_state\n",
        "                    best_priority = current_priority\n",
        "            temperature *= 1 - cooling_rate\n",
        "        return (best_state, best_priority)\n",
        "    # '''\n",
        "    # return a tuple (u, p) in which\n",
        "    #   u: the local maximum state\n",
        "    #   p: the priority/weight/desirability/cost of u\n",
        "\n",
        "    # Note: schedule(t) = 1/(t^2) with t is the iteration step\n",
        "    # '''\n",
        "    # return (None, None)"
      ]
    },
    {
      "cell_type": "markdown",
      "metadata": {
        "id": "hzWhWbDMdItW"
      },
      "source": [
        "# Evaluation"
      ]
    },
    {
      "cell_type": "code",
      "execution_count": 47,
      "metadata": {
        "colab": {
          "base_uri": "https://localhost:8080/"
        },
        "id": "kI0wFSGuaKeT",
        "outputId": "d614b2d7-619f-412e-dcdd-64f8cb4fa73f"
      },
      "outputs": [
        {
          "name": "stdout",
          "output_type": "stream",
          "text": [
            "<__main__.HillClimbingSearch object at 0x7c08cc2db310>\n",
            "6 41\n",
            "<__main__.LocalBeamSearch object at 0x7c08cc2d8a90>\n",
            "None -inf\n",
            "<__main__.SimulatedAnnealingSearch object at 0x7c08cc2da020>\n",
            "1 13\n"
          ]
        }
      ],
      "source": [
        "hcs = HillClimbingSearch()\n",
        "lbs = LocalBeamSearch(0)\n",
        "sas = SimulatedAnnealingSearch()\n",
        "\n",
        "for stg in [hcs, lbs, sas]:\n",
        "  print(stg)\n",
        "  u, p = stg.search(g, 0)\n",
        "  print(u, p)"
      ]
    },
    {
      "cell_type": "markdown",
      "metadata": {
        "id": "95erCQsOdTfL"
      },
      "source": [
        "# Submission\n",
        "\n",
        "*   Students download the notebook after completion\n",
        "*   Rename the notebook in which inserting your student ID at the beginning. \\\n",
        "For example, **123456-lec06-LocalSearch-HW.ipynb**\n",
        "*   Finally, submit the file"
      ]
    }
  ],
  "metadata": {
    "colab": {
      "provenance": []
    },
    "kernelspec": {
      "display_name": "Python 3",
      "name": "python3"
    },
    "language_info": {
      "codemirror_mode": {
        "name": "ipython",
        "version": 3
      },
      "file_extension": ".py",
      "mimetype": "text/x-python",
      "name": "python",
      "nbconvert_exporter": "python",
      "pygments_lexer": "ipython3",
      "version": "3.11.8"
    }
  },
  "nbformat": 4,
  "nbformat_minor": 0
}
