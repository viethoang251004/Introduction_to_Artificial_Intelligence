{
  "nbformat": 4,
  "nbformat_minor": 0,
  "metadata": {
    "colab": {
      "provenance": []
    },
    "kernelspec": {
      "name": "python3",
      "display_name": "Python 3"
    },
    "language_info": {
      "name": "python"
    }
  },
  "cells": [
    {
      "cell_type": "markdown",
      "source": [
        "Students implement GBFS and A* algorithms following TODO 1 - 2. \\\n",
        "Students can add supporting attributes and methods to the two classes as needed."
      ],
      "metadata": {
        "id": "mm5b-FZhfA5H"
      }
    },
    {
      "cell_type": "markdown",
      "source": [
        "# Libraries"
      ],
      "metadata": {
        "id": "9In-lpCRc7rc"
      }
    },
    {
      "cell_type": "code",
      "source": [
        "from google.colab import drive\n",
        "drive.mount('/content/drive')"
      ],
      "metadata": {
        "id": "ULds6skcUDGG",
        "outputId": "5a9af479-58a9-47f2-9f85-e241a12f7d40",
        "colab": {
          "base_uri": "https://localhost:8080/"
        }
      },
      "execution_count": 24,
      "outputs": [
        {
          "output_type": "stream",
          "name": "stdout",
          "text": [
            "Drive already mounted at /content/drive; to attempt to forcibly remount, call drive.mount(\"/content/drive\", force_remount=True).\n"
          ]
        }
      ]
    },
    {
      "cell_type": "code",
      "source": [
        "import os\n",
        "import heapq"
      ],
      "metadata": {
        "id": "baZnzmhNW8KU"
      },
      "execution_count": 25,
      "outputs": []
    },
    {
      "cell_type": "markdown",
      "source": [
        "# Graph class"
      ],
      "metadata": {
        "id": "Hm_qjIb4dB8a"
      }
    },
    {
      "cell_type": "code",
      "execution_count": 26,
      "metadata": {
        "id": "IBUbARThU6VK"
      },
      "outputs": [],
      "source": [
        "# Directed, weighted graphs\n",
        "class Graph:\n",
        "  def __init__(self):\n",
        "    self.AL = dict() # adjacency list\n",
        "    self.V = 0\n",
        "    self.E = 0\n",
        "    self.H = dict()\n",
        "\n",
        "  def __str__(self):\n",
        "    res = 'V: %d, E: %d\\n'%(self.V, self.E)\n",
        "    for u, neighbors in self.AL.items():\n",
        "      line = '%d: %s\\n'%(u, str(neighbors))\n",
        "      res += line\n",
        "    for u, h in self.H.items():\n",
        "      line = 'h(%d) = %d\\n'%(u, h)\n",
        "    return res\n",
        "\n",
        "  def print(self):\n",
        "    print(str(self))\n",
        "\n",
        "  def load_from_file(self, filename):\n",
        "    '''\n",
        "        Example input file:\n",
        "            V E\n",
        "            u v w\n",
        "            u v w\n",
        "            u v w\n",
        "            ...\n",
        "            u1 h1\n",
        "            u2 h2\n",
        "            u3 h3\n",
        "            ...\n",
        "\n",
        "        # input.txt\n",
        "        7 8\n",
        "        0 1 5\n",
        "        0 2 6\n",
        "        1 3 12\n",
        "        1 4 9\n",
        "        2 5 5\n",
        "        3 5 8\n",
        "        3 6 7\n",
        "        4 6 4\n",
        "        0 14\n",
        "        1 13\n",
        "        2 12\n",
        "        3 11\n",
        "        4 10\n",
        "        5 9\n",
        "        6 0\n",
        "    '''\n",
        "    if os.path.exists(filename):\n",
        "      with open(filename) as g:\n",
        "        self.V, self.E = [int(it) for it in g.readline().split()]\n",
        "        for i in range(self.E):\n",
        "          line = g.readline()\n",
        "          u, v, w = [int(it) for it in line.strip().split()]\n",
        "          if u not in self.AL:\n",
        "            self.AL[u] = []\n",
        "          self.AL[u].append((v, w))\n",
        "        for i in range(self.V):\n",
        "          line = g.readline()\n",
        "          u, h = [int(it) for it in line.strip().split()]\n",
        "          self.H[u] = h"
      ]
    },
    {
      "cell_type": "code",
      "source": [
        "g = Graph()\n",
        "g.load_from_file('/content/drive/MyDrive/Colab_Notebooks/input.txt')\n",
        "g.print()"
      ],
      "metadata": {
        "colab": {
          "base_uri": "https://localhost:8080/"
        },
        "id": "k_3EmSFKXtwk",
        "outputId": "d901aed1-090f-4cef-c732-0d884bb34348"
      },
      "execution_count": 27,
      "outputs": [
        {
          "output_type": "stream",
          "name": "stdout",
          "text": [
            "V: 7, E: 8\n",
            "0: [(1, 5), (2, 6)]\n",
            "1: [(3, 12), (4, 9)]\n",
            "2: [(5, 5)]\n",
            "3: [(5, 8), (6, 7)]\n",
            "4: [(6, 4)]\n",
            "\n"
          ]
        }
      ]
    },
    {
      "cell_type": "markdown",
      "source": [
        "# Search Strategies"
      ],
      "metadata": {
        "id": "95fgste5dFp0"
      }
    },
    {
      "cell_type": "code",
      "source": [
        "class BestSearchStrategy:\n",
        "  def search(self, g: Graph, src: int, dst: int) -> tuple:\n",
        "    expanded = [] # list of expanded vertices in the traversal order\n",
        "    path = [] # path from src to dst\n",
        "    return expanded, path"
      ],
      "metadata": {
        "id": "DjEuaXToYqk6"
      },
      "execution_count": 28,
      "outputs": []
    },
    {
      "cell_type": "code",
      "source": [
        "class GBFS(BestSearchStrategy):\n",
        "  def search(self, g: Graph, src: int, dst: int) -> tuple:\n",
        "    expanded = [] # list of expanded vertices in the traversal order\n",
        "    path = [] # path from src to dst\n",
        "    pq = [(g.H[src], src)] # priority queue with heuristic value and vertex\n",
        "    prev = {src: None} # to keep track of the path\n",
        "\n",
        "    while pq:\n",
        "      _, u = heapq.heappop(pq)\n",
        "      if u == dst:\n",
        "        while u is not None:\n",
        "          path.append(u)\n",
        "          u = prev[u]\n",
        "        path.reverse()\n",
        "        return expanded, path\n",
        "      if u not in expanded:\n",
        "        expanded.append(u)\n",
        "        for v, _ in g.AL.get(u, []):\n",
        "          if v not in prev:\n",
        "            heapq.heappush(pq, (g.H[v], v))\n",
        "            prev[v] = u\n",
        "    return expanded, path"
      ],
      "metadata": {
        "id": "Iax-_lNJZcQc"
      },
      "execution_count": 29,
      "outputs": []
    },
    {
      "cell_type": "code",
      "source": [
        "class AStar(BestSearchStrategy):\n",
        "  def search(self, g: Graph, src: int, dst: int) -> tuple:\n",
        "    expanded = [] # list of expanded vertices in the traversal order\n",
        "    path = [] # path from src to dst\n",
        "    pq = [(g.H[src], 0, src)] # priority queue with heuristic value, cost so far and vertex\n",
        "    prev = {src: None} # to keep track of the path\n",
        "    cost = {src: 0} # cost so far\n",
        "\n",
        "    while pq:\n",
        "      _, g_u, u = heapq.heappop(pq)\n",
        "      if u == dst:\n",
        "        while u is not None:\n",
        "          path.append(u)\n",
        "          u = prev[u]\n",
        "        path.reverse()\n",
        "        return expanded, path\n",
        "      if u not in expanded:\n",
        "        expanded.append(u)\n",
        "        for v, w in g.AL.get(u, []):\n",
        "          g_v = g_u + w\n",
        "          if v not in cost or g_v < cost[v]:\n",
        "            cost[v] = g_v\n",
        "            f_v = g_v + g.H[v]\n",
        "            heapq.heappush(pq, (f_v, g_v, v))\n",
        "            prev[v] = u\n",
        "    return expanded, path"
      ],
      "metadata": {
        "id": "nMO61eRTZrRS"
      },
      "execution_count": 30,
      "outputs": []
    },
    {
      "cell_type": "markdown",
      "source": [
        "# Evaluation"
      ],
      "metadata": {
        "id": "hzWhWbDMdItW"
      }
    },
    {
      "cell_type": "code",
      "source": [
        "gbfs = GBFS()\n",
        "astar = AStar()\n",
        "\n",
        "for stg in [gbfs, astar]:\n",
        "  print(stg)\n",
        "  expanded, path = stg.search(g, 0, g.V-1)\n",
        "  print(expanded)\n",
        "  print(path)"
      ],
      "metadata": {
        "colab": {
          "base_uri": "https://localhost:8080/"
        },
        "id": "kI0wFSGuaKeT",
        "outputId": "1d36e8ca-8e95-456b-d974-3c5912d756a4"
      },
      "execution_count": 31,
      "outputs": [
        {
          "output_type": "stream",
          "name": "stdout",
          "text": [
            "<__main__.GBFS object at 0x7fb2eb0afee0>\n",
            "[0, 2, 5, 1, 4]\n",
            "[0, 1, 4, 6]\n",
            "<__main__.AStar object at 0x7fb2eb0aedd0>\n",
            "[0, 1, 2, 5, 4]\n",
            "[0, 1, 4, 6]\n"
          ]
        }
      ]
    },
    {
      "cell_type": "markdown",
      "source": [
        "# Submission\n",
        "\n",
        "*   Students download the notebook after completion\n",
        "*   Rename the notebook in which inserting your student ID at the beginning. \\\n",
        "For example, **123456-lec05-BestFirstSearch-HW.ipynb**\n",
        "*   Finally, submit the file"
      ],
      "metadata": {
        "id": "95erCQsOdTfL"
      }
    }
  ]
}