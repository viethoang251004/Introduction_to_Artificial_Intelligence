{
  "cells": [
    {
      "cell_type": "markdown",
      "metadata": {
        "id": "mm5b-FZhfA5H"
      },
      "source": [
        "Students refer to pseudo codes of BFS, DFS, UCS, DLS, and IDS in [this link](https://drive.google.com/file/d/1q2LtrRCfemfiqyhfxNMcVJ3alvLh_pdV/view?usp=share_link) to implement the corresponding classes in TODO 1 - 5. \\\n",
        "Students can add supporting attributes and methods to the five classes of search strategies as needed."
      ]
    },
    {
      "cell_type": "markdown",
      "metadata": {
        "id": "9In-lpCRc7rc"
      },
      "source": [
        "# Libraries"
      ]
    },
    {
      "cell_type": "code",
      "execution_count": 1,
      "metadata": {
        "id": "baZnzmhNW8KU"
      },
      "outputs": [],
      "source": [
        "import os\n",
        "import heapq"
      ]
    },
    {
      "cell_type": "markdown",
      "metadata": {
        "id": "Hm_qjIb4dB8a"
      },
      "source": [
        "# Graph class"
      ]
    },
    {
      "cell_type": "code",
      "execution_count": 3,
      "metadata": {
        "id": "IBUbARThU6VK"
      },
      "outputs": [],
      "source": [
        "# Directed, weighted graphs\n",
        "class Graph:\n",
        "  def __init__(self):\n",
        "    self.AL = dict() # adjacency list\n",
        "    self.V = 0\n",
        "    self.E = 0\n",
        "\n",
        "  def __str__(self):\n",
        "    res = 'V: %d, E: %d\\n'%(self.V, self.E)\n",
        "    for u, neighbors in self.AL.items():\n",
        "      line = '%d: %s\\n'%(u, str(neighbors))\n",
        "      res += line\n",
        "    return res\n",
        "\n",
        "  def print(self):\n",
        "    print(str(self))\n",
        "\n",
        "  def load_from_file(self, filename):\n",
        "    '''\n",
        "        Example input file:\n",
        "            V E\n",
        "            u v w\n",
        "            u v w\n",
        "            u v w\n",
        "            ...\n",
        "\n",
        "        # input.txt\n",
        "        7 8\n",
        "        0 1 5\n",
        "        0 2 6\n",
        "        1 3 12\n",
        "        1 4 9\n",
        "        2 5 5\n",
        "        3 5 8\n",
        "        3 6 7\n",
        "        4 6 4\n",
        "    '''\n",
        "    if os.path.exists(filename):\n",
        "      with open(filename) as g:\n",
        "        self.V, self.E = [int(it) for it in g.readline().split()]\n",
        "        for line in g:\n",
        "          u, v, w = [int(it) for it in line.strip().split()]\n",
        "          if u not in self.AL:\n",
        "            self.AL[u] = []\n",
        "          self.AL[u].append((v, w))"
      ]
    },
    {
      "cell_type": "code",
      "execution_count": 5,
      "metadata": {
        "colab": {
          "base_uri": "https://localhost:8080/"
        },
        "id": "k_3EmSFKXtwk",
        "outputId": "890f2529-3bf1-4a55-c8d2-4f43681238cf"
      },
      "outputs": [
        {
          "name": "stdout",
          "output_type": "stream",
          "text": [
            "V: 7, E: 8\n",
            "0: [(1, 5), (2, 6)]\n",
            "1: [(3, 12), (4, 9)]\n",
            "2: [(5, 5)]\n",
            "3: [(5, 8), (6, 7)]\n",
            "4: [(6, 4)]\n",
            "\n"
          ]
        }
      ],
      "source": [
        "g = Graph()\n",
        "path='input.txt'\n",
        "g.load_from_file(path)\n",
        "g.print()"
      ]
    },
    {
      "cell_type": "markdown",
      "metadata": {
        "id": "95fgste5dFp0"
      },
      "source": [
        "# Search Strategies"
      ]
    },
    {
      "cell_type": "code",
      "execution_count": 7,
      "metadata": {
        "id": "DjEuaXToYqk6"
      },
      "outputs": [],
      "source": [
        "class SearchStrategy:\n",
        "  def search(self, g: Graph, src: int, dst: int) -> tuple:\n",
        "    expanded = [] # list of expanded vertices in the traversal order\n",
        "    path = [] # path from src to dst\n",
        "    return expanded, path"
      ]
    },
    {
      "cell_type": "code",
      "execution_count": 8,
      "metadata": {
        "id": "Iax-_lNJZcQc"
      },
      "outputs": [],
      "source": [
        "class BFS(SearchStrategy):\n",
        "\n",
        "    def search(self, g: Graph, src: int, dst: int) -> tuple:\n",
        "        expanded = []\n",
        "        path = []\n",
        "        visited = [False] * (g.V + 1)\n",
        "        queue = [(src, [src])]\n",
        "\n",
        "        while queue:\n",
        "            vertex, current_path = queue.pop(0)\n",
        "            expanded.append(vertex)\n",
        "\n",
        "            if vertex == dst:\n",
        "                path = current_path\n",
        "                break\n",
        "\n",
        "            visited[vertex] = True\n",
        "            if vertex in g.AL:\n",
        "                for neighbour, _ in g.AL[vertex]:\n",
        "                    if not visited[neighbour]:\n",
        "                        queue.append((neighbour, current_path + [neighbour]))\n",
        "                        visited[neighbour] = True\n",
        "\n",
        "        return expanded, path"
      ]
    },
    {
      "cell_type": "code",
      "execution_count": 9,
      "metadata": {
        "id": "nMO61eRTZrRS"
      },
      "outputs": [],
      "source": [
        "class DFS(SearchStrategy):\n",
        "    def search(self, g: Graph, src: int, dst: int) -> tuple:\n",
        "        expanded = []\n",
        "        path = []\n",
        "        visited = [False] * (g.V + 1)\n",
        "        def dfs_util(vertex, current_path):\n",
        "            nonlocal path\n",
        "            expanded.append(vertex)\n",
        "            visited[vertex] = True\n",
        "            if vertex == dst:\n",
        "                path = current_path\n",
        "                return True\n",
        "            if vertex in g.AL:\n",
        "                for neighbour, _ in g.AL[vertex]:\n",
        "                    if not visited[neighbour]:\n",
        "                        if dfs_util(neighbour, current_path + [neighbour]):\n",
        "                            return True\n",
        "            return False\n",
        "        dfs_util(src, [src])\n",
        "        return expanded, path"
      ]
    },
    {
      "cell_type": "code",
      "execution_count": 10,
      "metadata": {
        "id": "xp3Vi2j5Zr00"
      },
      "outputs": [],
      "source": [
        "class UCS(SearchStrategy):\n",
        "    def search(self, g: Graph, src: int, dst: int) -> tuple:\n",
        "        expanded = []\n",
        "        path = []\n",
        "        heap = [(0, src, [src])]\n",
        "        heapq.heapify(heap)\n",
        "        visited = [False] * (g.V + 1)\n",
        "\n",
        "        while heap:\n",
        "            cost, vertex, current_path = heapq.heappop(heap)\n",
        "            expanded.append(vertex)\n",
        "            if vertex == dst:\n",
        "                path = current_path\n",
        "                break\n",
        "            visited[vertex] = True\n",
        "            if vertex in g.AL:\n",
        "                for neighbour, weight in g.AL[vertex]:\n",
        "                    if not visited[neighbour]:\n",
        "                        heapq.heappush(heap, (cost + weight, neighbour, current_path + [neighbour]))\n",
        "                        visited[neighbour] = True\n",
        "\n",
        "        return expanded, path"
      ]
    },
    {
      "cell_type": "code",
      "execution_count": 12,
      "metadata": {
        "id": "akqnRp04Zsbt"
      },
      "outputs": [],
      "source": [
        "class DLS(SearchStrategy):\n",
        "    def __init__(self, LIM: int):\n",
        "        self.LIM = LIM\n",
        "\n",
        "    def search(self, g: Graph, src: int, dst: int) -> tuple:\n",
        "        expanded = []\n",
        "        path = []\n",
        "        visited = [False] * (g.V + 1)\n",
        "        def dls_util(vertex, current_path, depth):\n",
        "            nonlocal path\n",
        "            expanded.append(vertex)\n",
        "            visited[vertex] = True\n",
        "            if vertex == dst:\n",
        "                path = current_path\n",
        "                return True\n",
        "            if depth <= 0:\n",
        "                return False\n",
        "            for neighbour, _ in g.AL[vertex]:\n",
        "                if not visited[neighbour]:\n",
        "                    if dls_util(neighbour, current_path + [neighbour], depth - 1):\n",
        "                        return True\n",
        "            return False\n",
        "\n",
        "        dls_util(src, [src], self.LIM)\n",
        "        return expanded, path"
      ]
    },
    {
      "cell_type": "code",
      "execution_count": 13,
      "metadata": {
        "id": "os7VMwXIZ4f2"
      },
      "outputs": [],
      "source": [
        "class IDS(SearchStrategy):\n",
        "    def __init__(self, MAX_LIM: int):\n",
        "        self.MAX_LIM = MAX_LIM\n",
        "    def search(self, g: Graph, src: int, dst: int) -> tuple:\n",
        "        expanded = []\n",
        "        path = []\n",
        "        for depth in range(self.MAX_LIM + 1):\n",
        "            visited = [False] * (g.V + 1)\n",
        "            def dls_util(vertex, current_path, depth):\n",
        "                nonlocal path\n",
        "                expanded.append(vertex)\n",
        "                visited[vertex] = True\n",
        "                if vertex == dst:\n",
        "                    path = current_path\n",
        "                    return True\n",
        "                if depth <= 0:\n",
        "                    return False\n",
        "                for neighbour, _ in g.AL[vertex]:\n",
        "                    if not visited[neighbour]:\n",
        "                        if dls_util(neighbour, current_path + [neighbour], depth - 1):\n",
        "                            return True\n",
        "                return False\n",
        "\n",
        "            if dls_util(src, [src], depth):\n",
        "                break\n",
        "\n",
        "        return expanded, path"
      ]
    },
    {
      "cell_type": "markdown",
      "metadata": {
        "id": "hzWhWbDMdItW"
      },
      "source": [
        "# Evaluation"
      ]
    },
    {
      "cell_type": "code",
      "execution_count": 14,
      "metadata": {
        "colab": {
          "base_uri": "https://localhost:8080/"
        },
        "id": "kI0wFSGuaKeT",
        "outputId": "9e66eb79-60f9-4c09-d49d-bb0ce24787ab"
      },
      "outputs": [
        {
          "name": "stdout",
          "output_type": "stream",
          "text": [
            "<__main__.BFS object at 0x000001A934C72550>\n",
            "[0, 1, 2, 3, 4, 5, 6]\n",
            "[0, 1, 3, 6]\n",
            "<__main__.DFS object at 0x000001A933D48650>\n",
            "[0, 1, 3, 5, 6]\n",
            "[0, 1, 3, 6]\n",
            "<__main__.UCS object at 0x000001A933D49890>\n",
            "[0, 1, 2, 5, 4, 3, 6]\n",
            "[0, 1, 4, 6]\n",
            "<__main__.DLS object at 0x000001A933D50150>\n",
            "[0, 1, 3, 5, 6]\n",
            "[0, 1, 3, 6]\n",
            "<__main__.IDS object at 0x000001A934CA4AD0>\n",
            "[0, 0, 1, 2, 0, 1, 3, 4, 2, 5, 0, 1, 3, 5, 6]\n",
            "[0, 1, 3, 6]\n"
          ]
        }
      ],
      "source": [
        "bfs = BFS()\n",
        "dfs = DFS()\n",
        "ucs = UCS()\n",
        "dls = DLS(LIM=3)\n",
        "ids = IDS(MAX_LIM=5)\n",
        "\n",
        "for stg in [bfs, dfs, ucs, dls, ids]:\n",
        "  print(stg)\n",
        "  expanded, path = stg.search(g, 0, g.V-1)\n",
        "  print(expanded)\n",
        "  print(path)\n"
      ]
    },
    {
      "cell_type": "markdown",
      "metadata": {
        "id": "v_juZ-dPUlpP"
      },
      "source": [
        "# Submission"
      ]
    },
    {
      "cell_type": "markdown",
      "metadata": {
        "id": "svA6tZBfUmt_"
      },
      "source": [
        "*   Students download the notebook after completion\n",
        "*   Rename the notebook in which inserting your student ID at the beginning. \\\n",
        "For example, **123456-lec04-UninformedSearch-HW.ipynb**\n",
        "*   Finally, submit the file\n",
        "\n"
      ]
    }
  ],
  "metadata": {
    "colab": {
      "provenance": [],
      "toc_visible": true
    },
    "kernelspec": {
      "display_name": "Python 3",
      "name": "python3"
    },
    "language_info": {
      "codemirror_mode": {
        "name": "ipython",
        "version": 3
      },
      "file_extension": ".py",
      "mimetype": "text/x-python",
      "name": "python",
      "nbconvert_exporter": "python",
      "pygments_lexer": "ipython3",
      "version": "3.11.8"
    }
  },
  "nbformat": 4,
  "nbformat_minor": 0
}
