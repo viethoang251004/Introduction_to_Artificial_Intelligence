{
  "nbformat": 4,
  "nbformat_minor": 0,
  "metadata": {
    "colab": {
      "provenance": []
    },
    "kernelspec": {
      "name": "python3",
      "display_name": "Python 3"
    },
    "language_info": {
      "name": "python"
    }
  },
  "cells": [
    {
      "cell_type": "code",
      "source": [
        "from google.colab import drive\n",
        "drive.mount('/content/drive')"
      ],
      "metadata": {
        "colab": {
          "base_uri": "https://localhost:8080/"
        },
        "id": "BOE8F2lO_vdG",
        "outputId": "73581808-189d-485c-ab60-a8921aa6e9f7"
      },
      "execution_count": 1,
      "outputs": [
        {
          "output_type": "stream",
          "name": "stdout",
          "text": [
            "Drive already mounted at /content/drive; to attempt to forcibly remount, call drive.mount(\"/content/drive\", force_remount=True).\n"
          ]
        }
      ]
    },
    {
      "cell_type": "code",
      "source": [
        "!pip install pysat"
      ],
      "metadata": {
        "colab": {
          "base_uri": "https://localhost:8080/"
        },
        "id": "AgZFtgR5_7HL",
        "outputId": "5a974181-6321-4fc8-c4dd-42a4b59021b9"
      },
      "execution_count": 2,
      "outputs": [
        {
          "output_type": "stream",
          "name": "stdout",
          "text": [
            "Requirement already satisfied: pysat in /usr/local/lib/python3.10/dist-packages (3.2.0)\n",
            "Requirement already satisfied: dask in /usr/local/lib/python3.10/dist-packages (from pysat) (2023.8.1)\n",
            "Requirement already satisfied: netCDF4 in /usr/local/lib/python3.10/dist-packages (from pysat) (1.6.5)\n",
            "Requirement already satisfied: numpy>=1.12 in /usr/local/lib/python3.10/dist-packages (from pysat) (1.25.2)\n",
            "Requirement already satisfied: pandas in /usr/local/lib/python3.10/dist-packages (from pysat) (2.0.3)\n",
            "Requirement already satisfied: portalocker in /usr/local/lib/python3.10/dist-packages (from pysat) (2.8.2)\n",
            "Requirement already satisfied: pytest in /usr/local/lib/python3.10/dist-packages (from pysat) (7.4.4)\n",
            "Requirement already satisfied: scipy in /usr/local/lib/python3.10/dist-packages (from pysat) (1.11.4)\n",
            "Requirement already satisfied: toolz in /usr/local/lib/python3.10/dist-packages (from pysat) (0.12.1)\n",
            "Requirement already satisfied: xarray in /usr/local/lib/python3.10/dist-packages (from pysat) (2023.7.0)\n",
            "Requirement already satisfied: click>=8.0 in /usr/local/lib/python3.10/dist-packages (from dask->pysat) (8.1.7)\n",
            "Requirement already satisfied: cloudpickle>=1.5.0 in /usr/local/lib/python3.10/dist-packages (from dask->pysat) (2.2.1)\n",
            "Requirement already satisfied: fsspec>=2021.09.0 in /usr/local/lib/python3.10/dist-packages (from dask->pysat) (2023.6.0)\n",
            "Requirement already satisfied: packaging>=20.0 in /usr/local/lib/python3.10/dist-packages (from dask->pysat) (24.0)\n",
            "Requirement already satisfied: partd>=1.2.0 in /usr/local/lib/python3.10/dist-packages (from dask->pysat) (1.4.2)\n",
            "Requirement already satisfied: pyyaml>=5.3.1 in /usr/local/lib/python3.10/dist-packages (from dask->pysat) (6.0.1)\n",
            "Requirement already satisfied: importlib-metadata>=4.13.0 in /usr/local/lib/python3.10/dist-packages (from dask->pysat) (7.1.0)\n",
            "Requirement already satisfied: cftime in /usr/local/lib/python3.10/dist-packages (from netCDF4->pysat) (1.6.3)\n",
            "Requirement already satisfied: certifi in /usr/local/lib/python3.10/dist-packages (from netCDF4->pysat) (2024.2.2)\n",
            "Requirement already satisfied: python-dateutil>=2.8.2 in /usr/local/lib/python3.10/dist-packages (from pandas->pysat) (2.8.2)\n",
            "Requirement already satisfied: pytz>=2020.1 in /usr/local/lib/python3.10/dist-packages (from pandas->pysat) (2023.4)\n",
            "Requirement already satisfied: tzdata>=2022.1 in /usr/local/lib/python3.10/dist-packages (from pandas->pysat) (2024.1)\n",
            "Requirement already satisfied: iniconfig in /usr/local/lib/python3.10/dist-packages (from pytest->pysat) (2.0.0)\n",
            "Requirement already satisfied: pluggy<2.0,>=0.12 in /usr/local/lib/python3.10/dist-packages (from pytest->pysat) (1.5.0)\n",
            "Requirement already satisfied: exceptiongroup>=1.0.0rc8 in /usr/local/lib/python3.10/dist-packages (from pytest->pysat) (1.2.1)\n",
            "Requirement already satisfied: tomli>=1.0.0 in /usr/local/lib/python3.10/dist-packages (from pytest->pysat) (2.0.1)\n",
            "Requirement already satisfied: zipp>=0.5 in /usr/local/lib/python3.10/dist-packages (from importlib-metadata>=4.13.0->dask->pysat) (3.18.1)\n",
            "Requirement already satisfied: locket in /usr/local/lib/python3.10/dist-packages (from partd>=1.2.0->dask->pysat) (1.0.0)\n",
            "Requirement already satisfied: six>=1.5 in /usr/local/lib/python3.10/dist-packages (from python-dateutil>=2.8.2->pandas->pysat) (1.16.0)\n"
          ]
        }
      ]
    },
    {
      "cell_type": "code",
      "source": [
        "!pip3 install pysat\n",
        "!pip3 install cnf"
      ],
      "metadata": {
        "colab": {
          "base_uri": "https://localhost:8080/"
        },
        "id": "kAQPAnoSAylv",
        "outputId": "5b95bdc7-0d08-4f55-c009-b8d96edc3f95"
      },
      "execution_count": 3,
      "outputs": [
        {
          "output_type": "stream",
          "name": "stdout",
          "text": [
            "Requirement already satisfied: pysat in /usr/local/lib/python3.10/dist-packages (3.2.0)\n",
            "Requirement already satisfied: dask in /usr/local/lib/python3.10/dist-packages (from pysat) (2023.8.1)\n",
            "Requirement already satisfied: netCDF4 in /usr/local/lib/python3.10/dist-packages (from pysat) (1.6.5)\n",
            "Requirement already satisfied: numpy>=1.12 in /usr/local/lib/python3.10/dist-packages (from pysat) (1.25.2)\n",
            "Requirement already satisfied: pandas in /usr/local/lib/python3.10/dist-packages (from pysat) (2.0.3)\n",
            "Requirement already satisfied: portalocker in /usr/local/lib/python3.10/dist-packages (from pysat) (2.8.2)\n",
            "Requirement already satisfied: pytest in /usr/local/lib/python3.10/dist-packages (from pysat) (7.4.4)\n",
            "Requirement already satisfied: scipy in /usr/local/lib/python3.10/dist-packages (from pysat) (1.11.4)\n",
            "Requirement already satisfied: toolz in /usr/local/lib/python3.10/dist-packages (from pysat) (0.12.1)\n",
            "Requirement already satisfied: xarray in /usr/local/lib/python3.10/dist-packages (from pysat) (2023.7.0)\n",
            "Requirement already satisfied: click>=8.0 in /usr/local/lib/python3.10/dist-packages (from dask->pysat) (8.1.7)\n",
            "Requirement already satisfied: cloudpickle>=1.5.0 in /usr/local/lib/python3.10/dist-packages (from dask->pysat) (2.2.1)\n",
            "Requirement already satisfied: fsspec>=2021.09.0 in /usr/local/lib/python3.10/dist-packages (from dask->pysat) (2023.6.0)\n",
            "Requirement already satisfied: packaging>=20.0 in /usr/local/lib/python3.10/dist-packages (from dask->pysat) (24.0)\n",
            "Requirement already satisfied: partd>=1.2.0 in /usr/local/lib/python3.10/dist-packages (from dask->pysat) (1.4.2)\n",
            "Requirement already satisfied: pyyaml>=5.3.1 in /usr/local/lib/python3.10/dist-packages (from dask->pysat) (6.0.1)\n",
            "Requirement already satisfied: importlib-metadata>=4.13.0 in /usr/local/lib/python3.10/dist-packages (from dask->pysat) (7.1.0)\n",
            "Requirement already satisfied: cftime in /usr/local/lib/python3.10/dist-packages (from netCDF4->pysat) (1.6.3)\n",
            "Requirement already satisfied: certifi in /usr/local/lib/python3.10/dist-packages (from netCDF4->pysat) (2024.2.2)\n",
            "Requirement already satisfied: python-dateutil>=2.8.2 in /usr/local/lib/python3.10/dist-packages (from pandas->pysat) (2.8.2)\n",
            "Requirement already satisfied: pytz>=2020.1 in /usr/local/lib/python3.10/dist-packages (from pandas->pysat) (2023.4)\n",
            "Requirement already satisfied: tzdata>=2022.1 in /usr/local/lib/python3.10/dist-packages (from pandas->pysat) (2024.1)\n",
            "Requirement already satisfied: iniconfig in /usr/local/lib/python3.10/dist-packages (from pytest->pysat) (2.0.0)\n",
            "Requirement already satisfied: pluggy<2.0,>=0.12 in /usr/local/lib/python3.10/dist-packages (from pytest->pysat) (1.5.0)\n",
            "Requirement already satisfied: exceptiongroup>=1.0.0rc8 in /usr/local/lib/python3.10/dist-packages (from pytest->pysat) (1.2.1)\n",
            "Requirement already satisfied: tomli>=1.0.0 in /usr/local/lib/python3.10/dist-packages (from pytest->pysat) (2.0.1)\n",
            "Requirement already satisfied: zipp>=0.5 in /usr/local/lib/python3.10/dist-packages (from importlib-metadata>=4.13.0->dask->pysat) (3.18.1)\n",
            "Requirement already satisfied: locket in /usr/local/lib/python3.10/dist-packages (from partd>=1.2.0->dask->pysat) (1.0.0)\n",
            "Requirement already satisfied: six>=1.5 in /usr/local/lib/python3.10/dist-packages (from python-dateutil>=2.8.2->pandas->pysat) (1.16.0)\n",
            "Requirement already satisfied: cnf in /usr/local/lib/python3.10/dist-packages (0.0.4)\n"
          ]
        }
      ]
    },
    {
      "cell_type": "code",
      "source": [
        "!pip install python-sat"
      ],
      "metadata": {
        "colab": {
          "base_uri": "https://localhost:8080/"
        },
        "id": "FdjPR1HTBQGk",
        "outputId": "375ce5b3-ba4f-4255-feb8-53d1784130ea"
      },
      "execution_count": 4,
      "outputs": [
        {
          "output_type": "stream",
          "name": "stdout",
          "text": [
            "Requirement already satisfied: python-sat in /usr/local/lib/python3.10/dist-packages (1.8.dev13)\n",
            "Requirement already satisfied: six in /usr/local/lib/python3.10/dist-packages (from python-sat) (1.16.0)\n"
          ]
        }
      ]
    },
    {
      "cell_type": "code",
      "source": [
        "!pip install pycosat"
      ],
      "metadata": {
        "colab": {
          "base_uri": "https://localhost:8080/"
        },
        "id": "aPxn1JHOCB9r",
        "outputId": "a1636943-a49c-4c11-b796-969bd1ef0b84"
      },
      "execution_count": 7,
      "outputs": [
        {
          "output_type": "stream",
          "name": "stdout",
          "text": [
            "Collecting pycosat\n",
            "  Downloading pycosat-0.6.6.tar.gz (71 kB)\n",
            "\u001b[?25l     \u001b[90m━━━━━━━━━━━━━━━━━━━━━━━━━━━━━━━━━━━━━━━━\u001b[0m \u001b[32m0.0/71.6 kB\u001b[0m \u001b[31m?\u001b[0m eta \u001b[36m-:--:--\u001b[0m\r\u001b[2K     \u001b[90m━━━━━━━━━━━━━━━━━━━━━━━━━━━━━━━━━━━━━━━━\u001b[0m \u001b[32m71.6/71.6 kB\u001b[0m \u001b[31m2.5 MB/s\u001b[0m eta \u001b[36m0:00:00\u001b[0m\n",
            "\u001b[?25h  Preparing metadata (setup.py) ... \u001b[?25l\u001b[?25hdone\n",
            "Building wheels for collected packages: pycosat\n",
            "  Building wheel for pycosat (setup.py) ... \u001b[?25l\u001b[?25hdone\n",
            "  Created wheel for pycosat: filename=pycosat-0.6.6-cp310-cp310-linux_x86_64.whl size=169339 sha256=79758113cc825b77e1a992927a6f088395fab639e520c253609d97a4324cb904\n",
            "  Stored in directory: /root/.cache/pip/wheels/63/29/df/b8c22ca5812e2d7b342269a53add280b5bad42a540f34c3dc1\n",
            "Successfully built pycosat\n",
            "Installing collected packages: pycosat\n",
            "Successfully installed pycosat-0.6.6\n"
          ]
        }
      ]
    },
    {
      "cell_type": "code",
      "execution_count": 8,
      "metadata": {
        "id": "61FxKVB5d_od",
        "colab": {
          "base_uri": "https://localhost:8080/"
        },
        "outputId": "64e7d45a-2e92-4aaf-a434-24136add8a38"
      },
      "outputs": [
        {
          "output_type": "stream",
          "name": "stdout",
          "text": [
            "Enter the size of the board (N): 6 7\n",
            "Please enter a valid positive integer.\n",
            "Enter the size of the board (N): 8\n",
            ". . . Q . . . .\n",
            ". Q . . . . . .\n",
            ". . . . . . Q .\n",
            ". . Q . . . . .\n",
            ". . . . . Q . .\n",
            ". . . . . . . Q\n",
            ". . . . Q . . .\n",
            "Q . . . . . . .\n"
          ]
        }
      ],
      "source": [
        "from itertools import product\n",
        "from pysat.formula import CNF\n",
        "from pysat.solvers import Glucose3\n",
        "from pycosat import solve\n",
        "\n",
        "def get_board_size():\n",
        "    # Prompt user to enter the size of the board (N)\n",
        "    while True:\n",
        "        try:\n",
        "            n = int(input(\"Enter the size of the board (N): \"))\n",
        "            if n >= 4:\n",
        "                return n\n",
        "            print(\"N must be at least 4.\")\n",
        "        except ValueError:\n",
        "            print(\"Please enter a valid positive integer.\")\n",
        "\n",
        "def create_variables(n):\n",
        "    # Create a mapping of board positions to unique variable numbers\n",
        "    vars = {}\n",
        "    counter = 1\n",
        "    for row, col in product(range(n), range(n)):\n",
        "        vars[(row, col)] = counter\n",
        "        counter += 1\n",
        "    return vars\n",
        "\n",
        "def generate_constraints(n, vars):\n",
        "    # Generate constraints for the N-Queens problem\n",
        "    constraints = CNF()\n",
        "\n",
        "    # One queen per row\n",
        "    for row in range(n):\n",
        "        row_constraints = [vars[(row, col)] for col in range(n)]\n",
        "        constraints.append(row_constraints)\n",
        "        for col1 in range(n):\n",
        "            for col2 in range(col1 + 1, n):\n",
        "                constraints.append([-vars[(row, col1)], -vars[(row, col2)]])\n",
        "\n",
        "    # One queen per column\n",
        "    for col in range(n):\n",
        "        col_constraints = [vars[(row, col)] for row in range(n)]\n",
        "        constraints.append(col_constraints)\n",
        "        for row1 in range(n):\n",
        "            for row2 in range(row1 + 1, n):\n",
        "                constraints.append([-vars[(row1, col)], -vars[(row2, col)]])\n",
        "\n",
        "    # No two queens on the same diagonal\n",
        "    for row in range(n):\n",
        "        for col in range(n):\n",
        "            for step in range(1, n):\n",
        "                if row + step < n and col + step < n:\n",
        "                    constraints.append([-vars[(row, col)], -vars[(row + step, col + step)]])\n",
        "                if row + step < n and col - step >= 0:\n",
        "                    constraints.append([-vars[(row, col)], -vars[(row + step, col - step)]])\n",
        "                if row - step >= 0 and col + step < n:\n",
        "                    constraints.append([-vars[(row, col)], -vars[(row - step, col + step)]])\n",
        "                if row - step >= 0 and col - step >= 0:\n",
        "                    constraints.append([-vars[(row, col)], -vars[(row - step, col - step)]])\n",
        "\n",
        "    return constraints\n",
        "\n",
        "def solve_nqueens(constraints):\n",
        "    # Use the Glucose3 solver to solve the N-Queens problem with the given constraints\n",
        "    with Glucose3(bootstrap_with=constraints) as solver:\n",
        "        if solver.solve():\n",
        "            return solver.get_model()  # Return the solution if found\n",
        "    return None  # Return None if no solution exists\n",
        "\n",
        "def display_solution(n, solution, vars):\n",
        "    # Display the solution on the board\n",
        "    if solution:\n",
        "        # Initialize an empty board\n",
        "        board = [['.' for _ in range(n)] for _ in range(n)]\n",
        "        for var in solution:\n",
        "            if var > 0:\n",
        "                row, col = next((key for key, value in vars.items() if value == var), None)\n",
        "                board[row][col] = 'Q'  # Place a queen at the corresponding position\n",
        "        for row in board:\n",
        "            print(' '.join(row))  # Print the board row by row\n",
        "    else:\n",
        "        print(\"No solution exists\")\n",
        "\n",
        "if __name__ == \"__main__\":\n",
        "    # Main function to execute the N-Queens solver\n",
        "    n = get_board_size()  # Get the size of the board from the user\n",
        "    vars = create_variables(n)  # Create variables for the board positions\n",
        "    constraints = generate_constraints(n, vars)  # Generate constraints for the N-Queens problem\n",
        "    solution = solve_nqueens(constraints)  # Solve the problem using the constraints\n",
        "    display_solution(n, solution, vars)  # Display the solution\n"
      ]
    }
  ]
}